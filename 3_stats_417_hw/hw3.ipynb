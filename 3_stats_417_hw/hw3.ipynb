{
 "cells": [
  {
   "cell_type": "markdown",
   "metadata": {},
   "source": [
    "# Homework 3"
   ]
  },
  {
   "cell_type": "markdown",
   "metadata": {},
   "source": [
    "### Load and normalize CIFAR10"
   ]
  },
  {
   "cell_type": "code",
   "execution_count": 1,
   "metadata": {},
   "outputs": [],
   "source": [
    "import torch\n",
    "import torchvision\n",
    "import torchvision.transforms as transforms"
   ]
  },
  {
   "cell_type": "code",
   "execution_count": 2,
   "metadata": {},
   "outputs": [
    {
     "name": "stdout",
     "output_type": "stream",
     "text": [
      "Files already downloaded and verified\n",
      "Files already downloaded and verified\n"
     ]
    }
   ],
   "source": [
    "transform = transforms.Compose(\n",
    "    [\n",
    "        transforms.ToTensor(),\n",
    "        transforms.Normalize(\n",
    "            (0.5, 0.5, 0.5),\n",
    "            (0.5, 0.5, 0.5)\n",
    "        )\n",
    "    ]\n",
    ")\n",
    "\n",
    "batch_size = 4\n",
    "\n",
    "trainset = torchvision.datasets.CIFAR10(root='./data', train=True,\n",
    "                                        download=True, transform=transform)\n",
    "trainloader = torch.utils.data.DataLoader(trainset, batch_size=batch_size,\n",
    "                                          shuffle=True, num_workers=2)\n",
    "\n",
    "testset = torchvision.datasets.CIFAR10(root='./data', train=False,\n",
    "                                       download=True, transform=transform)\n",
    "testloader = torch.utils.data.DataLoader(testset, batch_size=batch_size,\n",
    "                                         shuffle=False, num_workers=2)\n",
    "\n",
    "classes = ('plane', 'car', 'bird', 'cat',\n",
    "           'deer', 'dog', 'frog', 'horse', 'ship', 'truck')"
   ]
  },
  {
   "cell_type": "code",
   "execution_count": 3,
   "metadata": {},
   "outputs": [
    {
     "data": {
      "image/png": "[encoded data removed]",
      "text/plain": [
       "<Figure size 640x480 with 1 Axes>"
      ]
     },
     "metadata": {},
     "output_type": "display_data"
    },
    {
     "name": "stdout",
     "output_type": "stream",
     "text": [
      "cat   ship  cat   horse\n"
     ]
    }
   ],
   "source": [
    "import matplotlib.pyplot as plt\n",
    "import numpy as np\n",
    "\n",
    "\n",
    "# functions to show an image\n",
    "def imshow(img):\n",
    "    img = img / 2 + 0.5     # unnormalize\n",
    "    npimg = img.numpy()\n",
    "    plt.imshow(np.transpose(npimg, (1, 2, 0)))\n",
    "    plt.show()\n",
    "\n",
    "\n",
    "# get some random training images\n",
    "dataiter = iter(trainloader)\n",
    "images, labels = next(dataiter)\n",
    "\n",
    "# show images\n",
    "imshow(torchvision.utils.make_grid(images))\n",
    "# print labels\n",
    "print(' '.join(f'{classes[labels[j]]:5s}' for j in range(batch_size)))"
   ]
  },
  {
   "cell_type": "markdown",
   "metadata": {},
   "source": [
    "## 1.1 Defining CNN architectures"
   ]
  },
  {
   "cell_type": "code",
   "execution_count": 185,
   "metadata": {},
   "outputs": [],
   "source": [
    "import torch.nn as nn\n",
    "import torch.nn.functional as F\n",
    "import torch.optim as optim\n",
    "\n",
    "class Net(nn.Module):\n",
    "    \"\"\"\n",
    "    Original neural network\n",
    "    \"\"\"\n",
    "    def __init__(self):\n",
    "        super().__init__()\n",
    "        self.conv1 = nn.Conv2d(3, 6, 5)\n",
    "        self.pool = nn.MaxPool2d(2, 2)\n",
    "        self.conv2 = nn.Conv2d(6, 16, 5)\n",
    "        self.fc1 = nn.Linear(16 * 5 * 5, 120)\n",
    "        self.fc2 = nn.Linear(120, 84)\n",
    "        self.fc3 = nn.Linear(84, 10)\n",
    "    def forward(self, x):\n",
    "        x = self.pool(F.relu(self.conv1(x)))\n",
    "        x = self.pool(F.relu(self.conv2(x)))\n",
    "        x = torch.flatten(x, 1) # flatten all dimensions except batch\n",
    "        x = F.relu(self.fc1(x))\n",
    "        x = F.relu(self.fc2(x))\n",
    "        x = self.fc3(x)\n",
    "        return x\n",
    "\n",
    "\n",
    "class Net_1(nn.Module):\n",
    "    \"\"\"\n",
    "    Doubling the number of channels in each layer\n",
    "    \"\"\"\n",
    "    def __init__(self):\n",
    "        super().__init__()\n",
    "        self.conv1 = nn.Conv2d(3, 12, 5)\n",
    "        self.pool = nn.MaxPool2d(2, 2)\n",
    "        self.conv2 = nn.Conv2d(12, 32, 5)\n",
    "        self.fc1 = nn.Linear(32 * 5 * 5, 120)\n",
    "        self.fc2 = nn.Linear(120, 84)\n",
    "        self.fc3 = nn.Linear(84, 10)\n",
    "    def forward(self, x):\n",
    "        x = self.pool(F.relu(self.conv1(x)))\n",
    "        x = self.pool(F.relu(self.conv2(x)))\n",
    "        x = torch.flatten(x, 1) # flatten all dimensions except batch\n",
    "        x = F.relu(self.fc1(x))\n",
    "        x = F.relu(self.fc2(x))\n",
    "        x = self.fc3(x)\n",
    "        return x\n",
    "\n",
    "\n",
    "class Net_2(nn.Module):\n",
    "    \"\"\"\n",
    "    Decrease to 1 convolutional layer\n",
    "    \"\"\"\n",
    "    def __init__(self):\n",
    "        super().__init__()\n",
    "        self.conv1 = nn.Conv2d(3, 6, 5)\n",
    "        self.pool = nn.MaxPool2d(2, 2, padding=1)\n",
    "        self.fc1 = nn.Linear(1350, 120)\n",
    "        self.fc2 = nn.Linear(120, 10)\n",
    "        #self.fc3 = nn.Linear(30, 10)\n",
    "    def forward(self, x):\n",
    "        x = self.pool(F.relu(self.conv1(x)))\n",
    "        x = x.view(-1, self.num_flat_features(x))\n",
    "        #x = torch.flatten(x,1) # flatten all dimensions except batch\n",
    "        x = F.relu(self.fc1(x))\n",
    "        x = self.fc2(x)\n",
    "        return x\n",
    "    def num_flat_features(self, x):\n",
    "        size = x.size()[1:]  # all dimensions except the batch dimension\n",
    "        num_features = 1\n",
    "        for s in size:\n",
    "            num_features *= s\n",
    "        return num_features\n",
    "\n",
    "\n",
    "class Net_3(nn.Module):\n",
    "    \"\"\"\n",
    "    Increase to 3 convolutional layers\n",
    "    \"\"\"\n",
    "    def __init__(self):\n",
    "        super().__init__()\n",
    "        self.conv1 = nn.Conv2d(3, 6, 5)\n",
    "        self.conv2 = nn.Conv2d(6, 16, 5)\n",
    "        self.conv3 = nn.Conv2d(16, 32, 5)\n",
    "        self.pool = nn.MaxPool2d(2, 2, padding=1)\n",
    "        self.fc1 = nn.Linear(128, 120)\n",
    "        self.fc2 = nn.Linear(120, 84)\n",
    "        self.fc3 = nn.Linear(84, 24)\n",
    "        self.fc4 = nn.Linear(24, 10)\n",
    "    def forward(self, x):\n",
    "        x = self.pool(F.relu(self.conv1(x)))\n",
    "        x = self.pool(F.relu(self.conv2(x)))\n",
    "        x = self.pool(F.relu(self.conv3(x)))\n",
    "        x = torch.flatten(x, 1) # flatten all dimensions except batch\n",
    "        x = F.relu(self.fc1(x))\n",
    "        x = F.relu(self.fc2(x))\n",
    "        x = F.relu(self.fc3(x))\n",
    "        x = self.fc4(x)\n",
    "        return x\n",
    "    def num_flat_features(self, x):\n",
    "        size = x.size()[1:]  # all dimensions except the batch dimension\n",
    "        num_features = 1\n",
    "        for s in size:\n",
    "            num_features *= s\n",
    "        return num_features\n",
    "\n",
    "\n",
    "class Net_4(nn.Module):\n",
    "    \"\"\"\n",
    "    Activation Function: LeakyReLU\n",
    "    \"\"\"\n",
    "    def __init__(self):\n",
    "        super().__init__()\n",
    "        self.conv1 = nn.Conv2d(3, 6, 5)\n",
    "        self.pool = nn.MaxPool2d(2, 2)\n",
    "        self.conv2 = nn.Conv2d(6, 16, 5)\n",
    "        self.fc1 = nn.Linear(16 * 5 * 5, 120)\n",
    "        self.fc2 = nn.Linear(120, 84)\n",
    "        self.fc3 = nn.Linear(84, 10)\n",
    "        self.LeakyReLU = nn.LeakyReLU(0.1)\n",
    "    def forward(self, x):\n",
    "        x = self.pool(self.LeakyReLU(self.conv1(x)))\n",
    "        x = self.pool(self.LeakyReLU(self.conv2(x)))\n",
    "        x = torch.flatten(x, 1) # flatten all dimensions except batch\n",
    "        x = self.LeakyReLU(self.fc1(x))\n",
    "        x = self.LeakyReLU(self.fc2(x))\n",
    "        x = self.fc3(x)\n",
    "        return x\n",
    "\n",
    "\n",
    "class Net_5(nn.Module):\n",
    "    \"\"\"\n",
    "    Activation Function: Tanh\n",
    "    \"\"\"\n",
    "    def __init__(self):\n",
    "        super().__init__()\n",
    "        self.conv1 = nn.Conv2d(3, 6, 5)\n",
    "        self.pool = nn.MaxPool2d(2, 2)\n",
    "        self.conv2 = nn.Conv2d(6, 16, 5)\n",
    "        self.fc1 = nn.Linear(16 * 5 * 5, 120)\n",
    "        self.fc2 = nn.Linear(120, 84)\n",
    "        self.fc3 = nn.Linear(84, 10)\n",
    "        self.Tanh = nn.Tanh()\n",
    "    def forward(self, x):\n",
    "        x = self.pool(self.Tanh(self.conv1(x)))\n",
    "        x = self.pool(self.Tanh(self.conv2(x)))\n",
    "        x = torch.flatten(x, 1) # flatten all dimensions except batch\n",
    "        x = self.Tanh(self.fc1(x))\n",
    "        x = self.Tanh(self.fc2(x))\n",
    "        x = self.fc3(x)\n",
    "        return x"
   ]
  },
  {
   "cell_type": "code",
   "execution_count": 186,
   "metadata": {},
   "outputs": [],
   "source": [
    "net   = Net()\n",
    "net_1 = Net_1()\n",
    "net_2 = Net_2()\n",
    "net_3 = Net_3()\n",
    "net_4 = Net_4()\n",
    "net_5 = Net_5()"
   ]
  },
  {
   "cell_type": "markdown",
   "metadata": {},
   "source": [
    "#### Train the network"
   ]
  },
  {
   "cell_type": "code",
   "execution_count": 250,
   "metadata": {},
   "outputs": [],
   "source": [
    "def train_net(neural_net):\n",
    "    \n",
    "    # define a loss function and optimizer\n",
    "    criterion = nn.CrossEntropyLoss()\n",
    "    optimizer = optim.SGD(neural_net.parameters(), lr=0.001, momentum=0.9)\n",
    "\n",
    "    for epoch in range(2):  # loop over the dataset multiple times\n",
    "        running_loss = 0.0\n",
    "        for i, data in enumerate(trainloader, 0):\n",
    "            # get the inputs; data is a list of [inputs, labels]\n",
    "            inputs, labels = data\n",
    "            # zero the parameter gradients\n",
    "            optimizer.zero_grad()\n",
    "            # forward + backward + optimize\n",
    "            outputs = neural_net(inputs)\n",
    "            loss = criterion(outputs, labels)\n",
    "            loss.backward()\n",
    "            optimizer.step()\n",
    "            # print statistics\n",
    "            running_loss += loss.item()\n",
    "            if i % 2000 == 1999:    # print every 2000 mini-batches\n",
    "                print(f'[{epoch + 1}, {i + 1:5d}] loss: {running_loss / 2000:.3f}')\n",
    "                running_loss = 0.0\n",
    "\n",
    "    print('Finished Training')\n",
    "    # saving the model\n",
    "    # torch.save(neural_net.state_dict(), path)"
   ]
  },
  {
   "cell_type": "code",
   "execution_count": 188,
   "metadata": {},
   "outputs": [
    {
     "name": "stdout",
     "output_type": "stream",
     "text": [
      "[1,  2000] loss: 2.266\n",
      "[1,  4000] loss: 1.891\n",
      "[1,  6000] loss: 1.663\n",
      "[1,  8000] loss: 1.574\n",
      "[1, 10000] loss: 1.519\n",
      "[1, 12000] loss: 1.484\n",
      "[2,  2000] loss: 1.404\n",
      "[2,  4000] loss: 1.387\n",
      "[2,  6000] loss: 1.355\n",
      "[2,  8000] loss: 1.340\n",
      "[2, 10000] loss: 1.310\n",
      "[2, 12000] loss: 1.293\n",
      "Finished Training\n",
      "[1,  2000] loss: 2.190\n",
      "[1,  4000] loss: 1.825\n",
      "[1,  6000] loss: 1.612\n",
      "[1,  8000] loss: 1.528\n",
      "[1, 10000] loss: 1.437\n",
      "[1, 12000] loss: 1.386\n",
      "[2,  2000] loss: 1.310\n",
      "[2,  4000] loss: 1.291\n",
      "[2,  6000] loss: 1.240\n",
      "[2,  8000] loss: 1.194\n",
      "[2, 10000] loss: 1.198\n",
      "[2, 12000] loss: 1.193\n",
      "Finished Training\n",
      "[1,  2000] loss: 1.893\n",
      "[1,  4000] loss: 1.621\n",
      "[1,  6000] loss: 1.514\n",
      "[1,  8000] loss: 1.488\n",
      "[1, 10000] loss: 1.443\n",
      "[1, 12000] loss: 1.423\n",
      "[2,  2000] loss: 1.316\n",
      "[2,  4000] loss: 1.311\n",
      "[2,  6000] loss: 1.282\n",
      "[2,  8000] loss: 1.280\n",
      "[2, 10000] loss: 1.258\n",
      "[2, 12000] loss: 1.274\n",
      "Finished Training\n",
      "[1,  2000] loss: 2.304\n",
      "[1,  4000] loss: 2.303\n",
      "[1,  6000] loss: 2.302\n",
      "[1,  8000] loss: 2.239\n",
      "[1, 10000] loss: 2.041\n",
      "[1, 12000] loss: 1.861\n",
      "[2,  2000] loss: 1.692\n",
      "[2,  4000] loss: 1.633\n",
      "[2,  6000] loss: 1.553\n",
      "[2,  8000] loss: 1.517\n",
      "[2, 10000] loss: 1.458\n",
      "[2, 12000] loss: 1.448\n",
      "Finished Training\n",
      "[1,  2000] loss: 2.152\n",
      "[1,  4000] loss: 1.812\n",
      "[1,  6000] loss: 1.653\n",
      "[1,  8000] loss: 1.568\n",
      "[1, 10000] loss: 1.512\n",
      "[1, 12000] loss: 1.462\n",
      "[2,  2000] loss: 1.382\n",
      "[2,  4000] loss: 1.368\n",
      "[2,  6000] loss: 1.347\n",
      "[2,  8000] loss: 1.318\n",
      "[2, 10000] loss: 1.310\n",
      "[2, 12000] loss: 1.279\n",
      "Finished Training\n",
      "[1,  2000] loss: 2.036\n",
      "[1,  4000] loss: 1.730\n",
      "[1,  6000] loss: 1.596\n",
      "[1,  8000] loss: 1.493\n",
      "[1, 10000] loss: 1.462\n",
      "[1, 12000] loss: 1.432\n",
      "[2,  2000] loss: 1.361\n",
      "[2,  4000] loss: 1.343\n",
      "[2,  6000] loss: 1.309\n",
      "[2,  8000] loss: 1.282\n",
      "[2, 10000] loss: 1.273\n",
      "[2, 12000] loss: 1.251\n",
      "Finished Training\n"
     ]
    }
   ],
   "source": [
    "train_net(net)\n",
    "train_net(net_1)\n",
    "train_net(net_2)\n",
    "train_net(net_3)\n",
    "train_net(net_4)\n",
    "train_net(net_5)"
   ]
  },
  {
   "cell_type": "markdown",
   "metadata": {},
   "source": [
    "#### Test the network on the test data"
   ]
  },
  {
   "cell_type": "code",
   "execution_count": 171,
   "metadata": {},
   "outputs": [],
   "source": [
    "dataiter = iter(testloader)\n",
    "images, labels = next(dataiter)\n",
    "\n",
    "# print images\n",
    "#imshow(torchvision.utils.make_grid(images))\n",
    "#print('GroundTruth: ', ' '.join(f'{classes[labels[j]]:5s}' for j in range(4)))"
   ]
  },
  {
   "cell_type": "code",
   "execution_count": 163,
   "metadata": {},
   "outputs": [],
   "source": [
    "def get_total_accuracy(neural_net):\n",
    "    correct = 0\n",
    "    total = 0\n",
    "    with torch.no_grad():\n",
    "        for data in testloader:\n",
    "            images, labels = data\n",
    "            # calculate outputs by running images through the network\n",
    "            outputs = neural_net(images)\n",
    "            # the class with the highest energy is what we choose as prediction\n",
    "            _, predicted = torch.max(outputs.data, 1)\n",
    "            total += labels.size(0)\n",
    "            correct += (predicted == labels).sum().item()\n",
    "    print(f'Accuracy of the network on the 10000 test images: {100 * correct // total} %')"
   ]
  },
  {
   "cell_type": "code",
   "execution_count": 142,
   "metadata": {},
   "outputs": [],
   "source": [
    "def get_group_accuracy(neural_net):\n",
    "    correct_pred = {classname: 0 for classname in classes}\n",
    "    total_pred = {classname: 0 for classname in classes}\n",
    "    with torch.no_grad():\n",
    "        for data in testloader:\n",
    "            images, labels = data\n",
    "            outputs = neural_net(images)\n",
    "            _, predictions = torch.max(outputs, 1)\n",
    "            # collect the correct predictions for each class\n",
    "            for label, prediction in zip(labels, predictions):\n",
    "                if label == prediction:\n",
    "                    correct_pred[classes[label]] += 1\n",
    "                total_pred[classes[label]] += 1\n",
    "    # print accuracy for each class\n",
    "    for classname, correct_count in correct_pred.items():\n",
    "        accuracy = 100 * float(correct_count) / total_pred[classname]\n",
    "        print(f'Accuracy for class: {classname:5s} is {accuracy:.1f} %')"
   ]
  },
  {
   "cell_type": "markdown",
   "metadata": {},
   "source": [
    "### Changing the number of channels"
   ]
  },
  {
   "cell_type": "code",
   "execution_count": 176,
   "metadata": {},
   "outputs": [
    {
     "name": "stdout",
     "output_type": "stream",
     "text": [
      "original CNN from tutorial\n",
      "----------\n",
      "Accuracy of the network on the 10000 test images: 56 %\n",
      "doubling the number of channels\n",
      "----------\n",
      "Accuracy of the network on the 10000 test images: 59 %\n"
     ]
    }
   ],
   "source": [
    "print(\"original CNN from tutorial\")\n",
    "print(\"-\"*10)\n",
    "get_total_accuracy(net)\n",
    "print(\"\")\n",
    "print(\"doubling the number of channels\")\n",
    "print(\"-\"*10)\n",
    "get_total_accuracy(net_1)"
   ]
  },
  {
   "cell_type": "code",
   "execution_count": 178,
   "metadata": {},
   "outputs": [
    {
     "name": "stdout",
     "output_type": "stream",
     "text": [
      "original CNN from tutorial\n",
      "----------\n",
      "Accuracy for class: plane is 62.9 %\n",
      "Accuracy for class: car   is 66.1 %\n",
      "Accuracy for class: bird  is 51.6 %\n",
      "Accuracy for class: cat   is 37.3 %\n",
      "Accuracy for class: deer  is 34.2 %\n",
      "Accuracy for class: dog   is 50.1 %\n",
      "Accuracy for class: frog  is 59.5 %\n",
      "Accuracy for class: horse is 69.4 %\n",
      "Accuracy for class: ship  is 73.2 %\n",
      "Accuracy for class: truck is 65.1 %\n",
      "doubling the number of channels\n",
      "----------\n",
      "Accuracy for class: plane is 51.1 %\n",
      "Accuracy for class: car   is 77.3 %\n",
      "Accuracy for class: bird  is 54.0 %\n",
      "Accuracy for class: cat   is 43.5 %\n",
      "Accuracy for class: deer  is 62.0 %\n",
      "Accuracy for class: dog   is 41.8 %\n",
      "Accuracy for class: frog  is 75.9 %\n",
      "Accuracy for class: horse is 55.5 %\n",
      "Accuracy for class: ship  is 78.6 %\n",
      "Accuracy for class: truck is 53.6 %\n"
     ]
    }
   ],
   "source": [
    "print(\"original CNN from tutorial\")\n",
    "print(\"-\"*10)\n",
    "get_group_accuracy(net)\n",
    "print(\"\")\n",
    "print(\"doubling the number of channels\")\n",
    "print(\"-\"*10)\n",
    "get_group_accuracy(net_1)"
   ]
  },
  {
   "cell_type": "markdown",
   "metadata": {},
   "source": [
    "### Changing the number of convolutional layers"
   ]
  },
  {
   "cell_type": "code",
   "execution_count": 191,
   "metadata": {},
   "outputs": [
    {
     "name": "stdout",
     "output_type": "stream",
     "text": [
      "original CNN from tutorial\n",
      "----------\n",
      "Accuracy of the network on the 10000 test images: 56 %\n",
      "\n",
      "decrease to 1 convolutional layer\n",
      "----------\n",
      "Accuracy of the network on the 10000 test images: 56 %\n",
      "\n",
      "increase to 3 convolutional layer\n",
      "----------\n",
      "Accuracy of the network on the 10000 test images: 48 %\n"
     ]
    }
   ],
   "source": [
    "print(\"original CNN from tutorial\")\n",
    "print(\"-\"*10)\n",
    "get_total_accuracy(net)\n",
    "print(\"\")\n",
    "print(\"decrease to 1 convolutional layer\")\n",
    "print(\"-\"*10)\n",
    "get_total_accuracy(net_2)\n",
    "print(\"\")\n",
    "print(\"increase to 3 convolutional layer\")\n",
    "print(\"-\"*10)\n",
    "get_total_accuracy(net_3)"
   ]
  },
  {
   "cell_type": "code",
   "execution_count": 190,
   "metadata": {},
   "outputs": [
    {
     "name": "stdout",
     "output_type": "stream",
     "text": [
      "original CNN from tutorial\n",
      "----------\n",
      "Accuracy for class: plane is 57.4 %\n",
      "Accuracy for class: car   is 71.8 %\n",
      "Accuracy for class: bird  is 37.2 %\n",
      "Accuracy for class: cat   is 16.0 %\n",
      "Accuracy for class: deer  is 38.9 %\n",
      "Accuracy for class: dog   is 53.4 %\n",
      "Accuracy for class: frog  is 84.2 %\n",
      "Accuracy for class: horse is 67.7 %\n",
      "Accuracy for class: ship  is 71.8 %\n",
      "Accuracy for class: truck is 62.7 %\n",
      "decrease to 1 convolutional layer\n",
      "----------\n",
      "Accuracy for class: plane is 57.5 %\n",
      "Accuracy for class: car   is 60.1 %\n",
      "Accuracy for class: bird  is 37.2 %\n",
      "Accuracy for class: cat   is 36.1 %\n",
      "Accuracy for class: deer  is 47.2 %\n",
      "Accuracy for class: dog   is 46.4 %\n",
      "Accuracy for class: frog  is 60.1 %\n",
      "Accuracy for class: horse is 73.3 %\n",
      "Accuracy for class: ship  is 73.6 %\n",
      "Accuracy for class: truck is 70.6 %\n",
      "increase to 3 convolutional layer\n",
      "----------\n",
      "Accuracy for class: plane is 44.5 %\n",
      "Accuracy for class: car   is 63.6 %\n",
      "Accuracy for class: bird  is 37.0 %\n",
      "Accuracy for class: cat   is 11.6 %\n",
      "Accuracy for class: deer  is 29.3 %\n",
      "Accuracy for class: dog   is 61.0 %\n",
      "Accuracy for class: frog  is 54.3 %\n",
      "Accuracy for class: horse is 55.2 %\n",
      "Accuracy for class: ship  is 76.1 %\n",
      "Accuracy for class: truck is 54.9 %\n"
     ]
    }
   ],
   "source": [
    "print(\"original CNN from tutorial\")\n",
    "print(\"-\"*10)\n",
    "get_group_accuracy(net)\n",
    "print(\"\")\n",
    "print(\"decrease to 1 convolutional layer\")\n",
    "print(\"-\"*10)\n",
    "get_group_accuracy(net_2)\n",
    "print(\"\")\n",
    "print(\"increase to 3 convolutional layer\")\n",
    "print(\"-\"*10)\n",
    "get_group_accuracy(net_3)"
   ]
  },
  {
   "cell_type": "markdown",
   "metadata": {},
   "source": [
    "### Changing activation functions"
   ]
  },
  {
   "cell_type": "code",
   "execution_count": 192,
   "metadata": {},
   "outputs": [
    {
     "name": "stdout",
     "output_type": "stream",
     "text": [
      "original CNN from tutorial\n",
      "----------\n",
      "Accuracy of the network on the 10000 test images: 56 %\n",
      "\n",
      "decrease to 1 convolutional layer\n",
      "----------\n",
      "Accuracy of the network on the 10000 test images: 56 %\n",
      "\n",
      "increase to 3 convolutional layer\n",
      "----------\n",
      "Accuracy of the network on the 10000 test images: 48 %\n"
     ]
    }
   ],
   "source": [
    "print(\"original CNN from tutorial\")\n",
    "print(\"-\"*10)\n",
    "get_total_accuracy(net)\n",
    "print(\"\")\n",
    "print(\"decrease to 1 convolutional layer\")\n",
    "print(\"-\"*10)\n",
    "get_total_accuracy(net_2)\n",
    "print(\"\")\n",
    "print(\"increase to 3 convolutional layer\")\n",
    "print(\"-\"*10)\n",
    "get_total_accuracy(net_3)"
   ]
  },
  {
   "cell_type": "code",
   "execution_count": 193,
   "metadata": {},
   "outputs": [
    {
     "name": "stdout",
     "output_type": "stream",
     "text": [
      "original CNN from tutorial\n",
      "----------\n",
      "Accuracy for class: plane is 57.4 %\n",
      "Accuracy for class: car   is 71.8 %\n",
      "Accuracy for class: bird  is 37.2 %\n",
      "Accuracy for class: cat   is 16.0 %\n",
      "Accuracy for class: deer  is 38.9 %\n",
      "Accuracy for class: dog   is 53.4 %\n",
      "Accuracy for class: frog  is 84.2 %\n",
      "Accuracy for class: horse is 67.7 %\n",
      "Accuracy for class: ship  is 71.8 %\n",
      "Accuracy for class: truck is 62.7 %\n",
      "\n",
      "decrease to 1 convolutional layer\n",
      "----------\n",
      "Accuracy for class: plane is 57.5 %\n",
      "Accuracy for class: car   is 60.1 %\n",
      "Accuracy for class: bird  is 37.2 %\n",
      "Accuracy for class: cat   is 36.1 %\n",
      "Accuracy for class: deer  is 47.2 %\n",
      "Accuracy for class: dog   is 46.4 %\n",
      "Accuracy for class: frog  is 60.1 %\n",
      "Accuracy for class: horse is 73.3 %\n",
      "Accuracy for class: ship  is 73.6 %\n",
      "Accuracy for class: truck is 70.6 %\n",
      "\n",
      "increase to 3 convolutional layer\n",
      "----------\n",
      "Accuracy for class: plane is 44.5 %\n",
      "Accuracy for class: car   is 63.6 %\n",
      "Accuracy for class: bird  is 37.0 %\n",
      "Accuracy for class: cat   is 11.6 %\n",
      "Accuracy for class: deer  is 29.3 %\n",
      "Accuracy for class: dog   is 61.0 %\n",
      "Accuracy for class: frog  is 54.3 %\n",
      "Accuracy for class: horse is 55.2 %\n",
      "Accuracy for class: ship  is 76.1 %\n",
      "Accuracy for class: truck is 54.9 %\n"
     ]
    }
   ],
   "source": [
    "print(\"original CNN from tutorial\")\n",
    "print(\"-\"*10)\n",
    "get_group_accuracy(net)\n",
    "print(\"\")\n",
    "print(\"decrease to 1 convolutional layer\")\n",
    "print(\"-\"*10)\n",
    "get_group_accuracy(net_2)\n",
    "print(\"\")\n",
    "print(\"increase to 3 convolutional layer\")\n",
    "print(\"-\"*10)\n",
    "get_group_accuracy(net_3)"
   ]
  },
  {
   "cell_type": "markdown",
   "metadata": {},
   "source": [
    "## 1.2 Changing the training hyperparameters"
   ]
  },
  {
   "cell_type": "markdown",
   "metadata": {},
   "source": [
    "### Changing learning rate"
   ]
  },
  {
   "cell_type": "code",
   "execution_count": 238,
   "metadata": {},
   "outputs": [],
   "source": [
    "def train_net_parameters(neural_net, lr):\n",
    "    \n",
    "    # define a loss function and optimizer\n",
    "    criterion = nn.CrossEntropyLoss()\n",
    "    optimizer = optim.SGD(neural_net.parameters(), lr=lr, momentum=0.9)\n",
    "\n",
    "    for epoch in range(2):  # loop over the dataset multiple times\n",
    "        running_loss = 0.0\n",
    "        for i, data in enumerate(trainloader, 0):\n",
    "            # get the inputs; data is a list of [inputs, labels]\n",
    "            inputs, labels = data\n",
    "            # zero the parameter gradients\n",
    "            optimizer.zero_grad()\n",
    "            # forward + backward + optimize\n",
    "            outputs = neural_net(inputs)\n",
    "            loss = criterion(outputs, labels)\n",
    "            loss.backward()\n",
    "            optimizer.step()\n",
    "            # print statistics\n",
    "            running_loss += loss.item()\n",
    "            if i % 2000 == 1999:    # print every 2000 mini-batches\n",
    "                #print(f'[{epoch + 1}, {i + 1:5d}] loss: {running_loss / 2000:.3f}')\n",
    "                running_loss = 0.0\n",
    "\n",
    "    print('Finished Training')\n",
    "    # saving the model\n",
    "    # torch.save(neural_net.state_dict(), path)"
   ]
  },
  {
   "cell_type": "code",
   "execution_count": 239,
   "metadata": {},
   "outputs": [],
   "source": [
    "def get_total_train_accuracy(neural_net):\n",
    "    correct = 0\n",
    "    total = 0\n",
    "    with torch.no_grad():\n",
    "        for data in trainloader:\n",
    "            images, labels = data\n",
    "            # calculate outputs by running images through the network\n",
    "            outputs = neural_net(images)\n",
    "            # the class with the highest energy is what we choose as prediction\n",
    "            _, predicted = torch.max(outputs.data, 1)\n",
    "            total += labels.size(0)\n",
    "            correct += (predicted == labels).sum().item()\n",
    "    print(f'Accuracy of the network on the 10000 test images: {100 * correct // total} %')"
   ]
  },
  {
   "cell_type": "code",
   "execution_count": 240,
   "metadata": {},
   "outputs": [],
   "source": [
    "def get_group_train_accuracy(neural_net):\n",
    "    correct_pred = {classname: 0 for classname in classes}\n",
    "    total_pred = {classname: 0 for classname in classes}\n",
    "    with torch.no_grad():\n",
    "        for data in trainloader:\n",
    "            images, labels = data\n",
    "            outputs = neural_net(images)\n",
    "            _, predictions = torch.max(outputs, 1)\n",
    "            # collect the correct predictions for each class\n",
    "            for label, prediction in zip(labels, predictions):\n",
    "                if label == prediction:\n",
    "                    correct_pred[classes[label]] += 1\n",
    "                total_pred[classes[label]] += 1\n",
    "    # print accuracy for each class\n",
    "    for classname, correct_count in correct_pred.items():\n",
    "        accuracy = 100 * float(correct_count) / total_pred[classname]\n",
    "        print(f'Accuracy for class: {classname:5s} is {accuracy:.1f} %')"
   ]
  },
  {
   "cell_type": "code",
   "execution_count": 244,
   "metadata": {},
   "outputs": [
    {
     "name": "stdout",
     "output_type": "stream",
     "text": [
      "Finished Training\n",
      "Learning Rate: 0.0001\n",
      "----------\n",
      "test accuracy\n",
      "Accuracy of the network on the 10000 test images: 46 %\n",
      "Accuracy for class: plane is 51.2 %\n",
      "Accuracy for class: car   is 59.0 %\n",
      "Accuracy for class: bird  is 26.4 %\n",
      "Accuracy for class: cat   is 34.5 %\n",
      "Accuracy for class: deer  is 35.6 %\n",
      "Accuracy for class: dog   is 38.0 %\n",
      "Accuracy for class: frog  is 55.4 %\n",
      "Accuracy for class: horse is 54.4 %\n",
      "Accuracy for class: ship  is 58.2 %\n",
      "Accuracy for class: truck is 51.8 %\n",
      "\n",
      "train accuracy\n",
      "Accuracy of the network on the 10000 test images: 51 %\n",
      "Accuracy for class: plane is 55.1 %\n",
      "Accuracy for class: car   is 69.0 %\n",
      "Accuracy for class: bird  is 32.2 %\n",
      "Accuracy for class: cat   is 39.2 %\n",
      "Accuracy for class: deer  is 39.6 %\n",
      "Accuracy for class: dog   is 42.5 %\n",
      "Accuracy for class: frog  is 56.9 %\n",
      "Accuracy for class: horse is 60.6 %\n",
      "Accuracy for class: ship  is 64.6 %\n",
      "Accuracy for class: truck is 59.6 %\n",
      "\n",
      "Finished Training\n",
      "Learning Rate: 0.001\n",
      "----------\n",
      "test accuracy\n",
      "Accuracy of the network on the 10000 test images: 46 %\n",
      "Accuracy for class: plane is 50.3 %\n",
      "Accuracy for class: car   is 61.3 %\n",
      "Accuracy for class: bird  is 27.8 %\n",
      "Accuracy for class: cat   is 31.3 %\n",
      "Accuracy for class: deer  is 35.4 %\n",
      "Accuracy for class: dog   is 42.4 %\n",
      "Accuracy for class: frog  is 56.6 %\n",
      "Accuracy for class: horse is 55.3 %\n",
      "Accuracy for class: ship  is 58.7 %\n",
      "Accuracy for class: truck is 49.2 %\n",
      "\n",
      "train accuracy\n",
      "Accuracy of the network on the 10000 test images: 53 %\n",
      "Accuracy for class: plane is 56.3 %\n",
      "Accuracy for class: car   is 71.8 %\n",
      "Accuracy for class: bird  is 34.1 %\n",
      "Accuracy for class: cat   is 37.5 %\n",
      "Accuracy for class: deer  is 38.5 %\n",
      "Accuracy for class: dog   is 46.3 %\n",
      "Accuracy for class: frog  is 58.9 %\n",
      "Accuracy for class: horse is 62.3 %\n",
      "Accuracy for class: ship  is 66.3 %\n",
      "Accuracy for class: truck is 60.3 %\n",
      "\n",
      "Finished Training\n",
      "Learning Rate: 0.01\n",
      "----------\n",
      "test accuracy\n",
      "Accuracy of the network on the 10000 test images: 45 %\n",
      "Accuracy for class: plane is 48.8 %\n",
      "Accuracy for class: car   is 58.6 %\n",
      "Accuracy for class: bird  is 13.4 %\n",
      "Accuracy for class: cat   is 18.7 %\n",
      "Accuracy for class: deer  is 46.4 %\n",
      "Accuracy for class: dog   is 50.9 %\n",
      "Accuracy for class: frog  is 52.8 %\n",
      "Accuracy for class: horse is 53.7 %\n",
      "Accuracy for class: ship  is 61.7 %\n",
      "Accuracy for class: truck is 47.8 %\n",
      "\n",
      "train accuracy\n",
      "Accuracy of the network on the 10000 test images: 51 %\n",
      "Accuracy for class: plane is 53.0 %\n",
      "Accuracy for class: car   is 70.0 %\n",
      "Accuracy for class: bird  is 17.9 %\n",
      "Accuracy for class: cat   is 24.9 %\n",
      "Accuracy for class: deer  is 50.4 %\n",
      "Accuracy for class: dog   is 57.1 %\n",
      "Accuracy for class: frog  is 54.7 %\n",
      "Accuracy for class: horse is 61.4 %\n",
      "Accuracy for class: ship  is 71.0 %\n",
      "Accuracy for class: truck is 57.6 %\n",
      "\n"
     ]
    }
   ],
   "source": [
    "for i in [0.0001,0.001,0.01]:\n",
    "    train_net_parameters(net, i)\n",
    "    print(f\"Learning Rate: {i}\")\n",
    "    print(\"-\"*10)\n",
    "    print(\"test accuracy\")\n",
    "    get_total_accuracy(net)\n",
    "    get_group_accuracy(net)\n",
    "    print(\"\")\n",
    "    print(\"train accuracy\")\n",
    "    get_total_train_accuracy(net)\n",
    "    get_group_train_accuracy(net)\n",
    "    print(\"\")"
   ]
  },
  {
   "cell_type": "markdown",
   "metadata": {},
   "source": [
    "### Changing the optimizer"
   ]
  },
  {
   "cell_type": "code",
   "execution_count": 245,
   "metadata": {},
   "outputs": [],
   "source": [
    "def train_net_parameters(neural_net, optimizer, lr=0.001):\n",
    "    \n",
    "    # define a loss function and optimizer\n",
    "    criterion = nn.CrossEntropyLoss()\n",
    "    #optimizer = optim.SGD(neural_net.parameters(), lr=lr, momentum=0.9)\n",
    "\n",
    "    for epoch in range(2):  # loop over the dataset multiple times\n",
    "        running_loss = 0.0\n",
    "        for i, data in enumerate(trainloader, 0):\n",
    "            # get the inputs; data is a list of [inputs, labels]\n",
    "            inputs, labels = data\n",
    "            # zero the parameter gradients\n",
    "            optimizer.zero_grad()\n",
    "            # forward + backward + optimize\n",
    "            outputs = neural_net(inputs)\n",
    "            loss = criterion(outputs, labels)\n",
    "            loss.backward()\n",
    "            optimizer.step()\n",
    "            # print statistics\n",
    "            running_loss += loss.item()\n",
    "            if i % 2000 == 1999:    # print every 2000 mini-batches\n",
    "                #print(f'[{epoch + 1}, {i + 1:5d}] loss: {running_loss / 2000:.3f}')\n",
    "                running_loss = 0.0\n",
    "\n",
    "    print('Finished Training')\n",
    "    # saving the model\n",
    "    # torch.save(neural_net.state_dict(), path)"
   ]
  },
  {
   "cell_type": "code",
   "execution_count": 246,
   "metadata": {},
   "outputs": [
    {
     "name": "stdout",
     "output_type": "stream",
     "text": [
      "Finished Training\n",
      "----------\n",
      "test accuracy\n",
      "Accuracy of the network on the 10000 test images: 46 %\n",
      "Accuracy for class: plane is 50.7 %\n",
      "Accuracy for class: car   is 60.3 %\n",
      "Accuracy for class: bird  is 27.1 %\n",
      "Accuracy for class: cat   is 32.7 %\n",
      "Accuracy for class: deer  is 37.3 %\n",
      "Accuracy for class: dog   is 39.6 %\n",
      "Accuracy for class: frog  is 56.6 %\n",
      "Accuracy for class: horse is 55.7 %\n",
      "Accuracy for class: ship  is 57.8 %\n",
      "Accuracy for class: truck is 51.8 %\n",
      "\n",
      "train accuracy\n",
      "Accuracy of the network on the 10000 test images: 53 %\n",
      "Accuracy for class: plane is 55.3 %\n",
      "Accuracy for class: car   is 71.8 %\n",
      "Accuracy for class: bird  is 33.8 %\n",
      "Accuracy for class: cat   is 39.8 %\n",
      "Accuracy for class: deer  is 43.0 %\n",
      "Accuracy for class: dog   is 45.0 %\n",
      "Accuracy for class: frog  is 58.0 %\n",
      "Accuracy for class: horse is 62.9 %\n",
      "Accuracy for class: ship  is 67.6 %\n",
      "Accuracy for class: truck is 62.4 %\n",
      "\n",
      "Finished Training\n",
      "----------\n",
      "test accuracy\n",
      "Accuracy of the network on the 10000 test images: 47 %\n",
      "Accuracy for class: plane is 52.8 %\n",
      "Accuracy for class: car   is 64.6 %\n",
      "Accuracy for class: bird  is 34.8 %\n",
      "Accuracy for class: cat   is 28.9 %\n",
      "Accuracy for class: deer  is 40.1 %\n",
      "Accuracy for class: dog   is 38.7 %\n",
      "Accuracy for class: frog  is 58.7 %\n",
      "Accuracy for class: horse is 49.5 %\n",
      "Accuracy for class: ship  is 52.8 %\n",
      "Accuracy for class: truck is 50.3 %\n",
      "\n",
      "train accuracy\n",
      "Accuracy of the network on the 10000 test images: 57 %\n",
      "Accuracy for class: plane is 62.7 %\n",
      "Accuracy for class: car   is 80.7 %\n",
      "Accuracy for class: bird  is 42.5 %\n",
      "Accuracy for class: cat   is 40.6 %\n",
      "Accuracy for class: deer  is 46.8 %\n",
      "Accuracy for class: dog   is 46.8 %\n",
      "Accuracy for class: frog  is 62.6 %\n",
      "Accuracy for class: horse is 61.1 %\n",
      "Accuracy for class: ship  is 68.4 %\n",
      "Accuracy for class: truck is 65.9 %\n",
      "\n"
     ]
    }
   ],
   "source": [
    "optimizer_SGD_no_momentum = optim.SGD(net.parameters(), momentum=0.0, lr=0.001)\n",
    "optimizer_Adam = optim.Adam(net.parameters())\n",
    "\n",
    "for i in [optimizer_SGD_no_momentum, optimizer_Adam]:\n",
    "    train_net_parameters(net, optimizer = i)\n",
    "    print(\"-\"*10)\n",
    "    print(\"test accuracy\")\n",
    "    get_total_accuracy(net)\n",
    "    get_group_accuracy(net)\n",
    "    print(\"\")\n",
    "    print(\"train accuracy\")\n",
    "    get_total_train_accuracy(net)\n",
    "    get_group_train_accuracy(net)\n",
    "    print(\"\")"
   ]
  },
  {
   "cell_type": "markdown",
   "metadata": {},
   "source": [
    "### Larger batch size"
   ]
  },
  {
   "cell_type": "code",
   "execution_count": 251,
   "metadata": {},
   "outputs": [
    {
     "name": "stdout",
     "output_type": "stream",
     "text": [
      "Finished Training\n",
      "test accuracy\n",
      "Accuracy of the network on the 10000 test images: 47 %\n",
      "Accuracy for class: plane is 50.1 %\n",
      "Accuracy for class: car   is 57.4 %\n",
      "Accuracy for class: bird  is 34.2 %\n",
      "Accuracy for class: cat   is 30.5 %\n",
      "Accuracy for class: deer  is 35.7 %\n",
      "Accuracy for class: dog   is 40.3 %\n",
      "Accuracy for class: frog  is 53.8 %\n",
      "Accuracy for class: horse is 57.0 %\n",
      "Accuracy for class: ship  is 60.1 %\n",
      "Accuracy for class: truck is 53.9 %\n",
      "\n",
      "train accuracy\n",
      "Accuracy of the network on the 10000 test images: 61 %\n",
      "Accuracy for class: plane is 65.4 %\n",
      "Accuracy for class: car   is 78.4 %\n",
      "Accuracy for class: bird  is 45.2 %\n",
      "Accuracy for class: cat   is 45.4 %\n",
      "Accuracy for class: deer  is 45.6 %\n",
      "Accuracy for class: dog   is 51.2 %\n",
      "Accuracy for class: frog  is 60.2 %\n",
      "Accuracy for class: horse is 70.4 %\n",
      "Accuracy for class: ship  is 76.8 %\n",
      "Accuracy for class: truck is 73.5 %\n",
      "\n"
     ]
    }
   ],
   "source": [
    "batch_size = 32\n",
    "\n",
    "trainloader = torch.utils.data.DataLoader(trainset, batch_size=batch_size,\n",
    "                                          shuffle=True, num_workers=2)\n",
    "\n",
    "testloader = torch.utils.data.DataLoader(testset, batch_size=batch_size,\n",
    "                                         shuffle=False, num_workers=2)\n",
    "\n",
    "train_net(net)\n",
    "print(\"test accuracy\")\n",
    "get_total_accuracy(net)\n",
    "get_group_accuracy(net)\n",
    "print(\"\")\n",
    "print(\"train accuracy\")\n",
    "get_total_train_accuracy(net)\n",
    "get_group_train_accuracy(net)\n",
    "print(\"\")"
   ]
  },
  {
   "cell_type": "markdown",
   "metadata": {},
   "source": [
    "### Longer training time"
   ]
  },
  {
   "cell_type": "code",
   "execution_count": 248,
   "metadata": {},
   "outputs": [],
   "source": [
    "def train_net_parameters(neural_net, num_epochs):\n",
    "    \n",
    "    # define a loss function and optimizer\n",
    "    criterion = nn.CrossEntropyLoss()\n",
    "    optimizer = optim.SGD(neural_net.parameters(), lr=0.001, momentum=0.9)\n",
    "\n",
    "    for epoch in range(num_epochs):  # loop over the dataset multiple times\n",
    "        running_loss = 0.0\n",
    "        for i, data in enumerate(trainloader, 0):\n",
    "            # get the inputs; data is a list of [inputs, labels]\n",
    "            inputs, labels = data\n",
    "            # zero the parameter gradients\n",
    "            optimizer.zero_grad()\n",
    "            # forward + backward + optimize\n",
    "            outputs = neural_net(inputs)\n",
    "            loss = criterion(outputs, labels)\n",
    "            loss.backward()\n",
    "            optimizer.step()\n",
    "            # print statistics\n",
    "            running_loss += loss.item()\n",
    "            if i % 2000 == 1999:    # print every 2000 mini-batches\n",
    "                print(f'[{epoch + 1}, {i + 1:5d}] loss: {running_loss / 2000:.3f}')\n",
    "                running_loss = 0.0\n",
    "\n",
    "    print('Finished Training')\n",
    "    # saving the model\n",
    "    # torch.save(neural_net.state_dict(), path)"
   ]
  },
  {
   "cell_type": "code",
   "execution_count": 249,
   "metadata": {},
   "outputs": [
    {
     "name": "stdout",
     "output_type": "stream",
     "text": [
      "Finished Training\n",
      "test accuracy\n",
      "Accuracy of the network on the 10000 test images: 47 %\n",
      "Accuracy for class: plane is 48.2 %\n",
      "Accuracy for class: car   is 58.4 %\n",
      "Accuracy for class: bird  is 36.0 %\n",
      "Accuracy for class: cat   is 30.3 %\n",
      "Accuracy for class: deer  is 34.0 %\n",
      "Accuracy for class: dog   is 36.9 %\n",
      "Accuracy for class: frog  is 57.7 %\n",
      "Accuracy for class: horse is 57.9 %\n",
      "Accuracy for class: ship  is 59.0 %\n",
      "Accuracy for class: truck is 55.5 %\n",
      "\n",
      "train accuracy\n",
      "Accuracy of the network on the 10000 test images: 60 %\n",
      "Accuracy for class: plane is 62.8 %\n",
      "Accuracy for class: car   is 78.1 %\n",
      "Accuracy for class: bird  is 45.6 %\n",
      "Accuracy for class: cat   is 44.2 %\n",
      "Accuracy for class: deer  is 44.0 %\n",
      "Accuracy for class: dog   is 47.3 %\n",
      "Accuracy for class: frog  is 63.6 %\n",
      "Accuracy for class: horse is 70.8 %\n",
      "Accuracy for class: ship  is 75.4 %\n",
      "Accuracy for class: truck is 74.6 %\n",
      "\n"
     ]
    }
   ],
   "source": [
    "train_net_parameters(net, num_epochs=5)\n",
    "print(\"test accuracy\")\n",
    "get_total_accuracy(net)\n",
    "get_group_accuracy(net)\n",
    "print(\"\")\n",
    "print(\"train accuracy\")\n",
    "get_total_train_accuracy(net)\n",
    "get_group_train_accuracy(net)\n",
    "print(\"\")"
   ]
  },
  {
   "cell_type": "markdown",
   "metadata": {},
   "source": [
    "## 2. LSTM"
   ]
  },
  {
   "cell_type": "markdown",
   "metadata": {},
   "source": [
    "Input dimension - represents the size of the input at each time step  \n",
    "Hidden dimension - the number of nodes in the hidden layer at time t  \n",
    "Number of layers - total number of LSTM layers in the neural network"
   ]
  },
  {
   "cell_type": "code",
   "execution_count": null,
   "metadata": {},
   "outputs": [],
   "source": [
    "input_dim = 5\n",
    "hidden_dim = 10\n",
    "n_layers = 1\n",
    "\n",
    "lstm_layer = nn.LSTM(input_dim, hidden_dim, n_layers, batch_first=True)"
   ]
  },
  {
   "cell_type": "markdown",
   "metadata": {},
   "source": [
    "Initializing the LSTM"
   ]
  },
  {
   "cell_type": "code",
   "execution_count": null,
   "metadata": {},
   "outputs": [],
   "source": [
    "batch_size = 1\n",
    "seq_len = 1\n",
    "\n",
    "inp = torch.randn(batch_size, seq_len, input_dim)\n",
    "hidden_state = torch.randn(n_layers, batch_size, hidden_dim)\n",
    "cell_state = torch.randn(n_layers, batch_size, hidden_dim)\n",
    "hidden = (hidden_state, cell_state)"
   ]
  },
  {
   "cell_type": "code",
   "execution_count": null,
   "metadata": {},
   "outputs": [],
   "source": [
    "out, hidden = lstm_layer(inp, hidden)\n",
    "print(\"Output shape: \", out.shape)\n",
    "print(\"Hidden: \", hidden)"
   ]
  },
  {
   "cell_type": "markdown",
   "metadata": {},
   "source": [
    "The LSTM takes as input a sequence of variable length"
   ]
  },
  {
   "cell_type": "code",
   "execution_count": null,
   "metadata": {},
   "outputs": [],
   "source": [
    "seq_len = 3\n",
    "inp = torch.randn(batch_size, seq_len, input_dim)\n",
    "out, hidden = lstm_layer(inp, hidden)\n",
    "print(out.shape)"
   ]
  },
  {
   "cell_type": "code",
   "execution_count": null,
   "metadata": {},
   "outputs": [],
   "source": [
    "# Obtaining the last output\n",
    "out = out.squeeze()[-1, :]\n",
    "print(out.shape)"
   ]
  },
  {
   "cell_type": "markdown",
   "metadata": {},
   "source": [
    "### Amazon Review Example"
   ]
  },
  {
   "cell_type": "code",
   "execution_count": null,
   "metadata": {},
   "outputs": [],
   "source": [
    "import bz2\n",
    "from collections import Counter\n",
    "import re\n",
    "import nltk\n",
    "import numpy as np\n",
    "nltk.download('punkt')\n",
    "\n",
    "train_file = bz2.BZ2File('../input/amazon_reviews/train.ft.txt.bz2')\n",
    "test_file = bz2.BZ2File('../input/amazon_reviews/test.ft.txt.bz2')\n",
    "\n",
    "train_file = train_file.readlines()\n",
    "test_file = test_file.readlines()"
   ]
  },
  {
   "cell_type": "markdown",
   "metadata": {},
   "source": [
    "First, we read the data and split train vs test sets"
   ]
  },
  {
   "cell_type": "code",
   "execution_count": null,
   "metadata": {},
   "outputs": [],
   "source": [
    "num_train = 800000  # We're training on the first 800,000 reviews in the dataset\n",
    "num_test = 200000  # Using 200,000 reviews from test set\n",
    "\n",
    "train_file = [x.decode('utf-8') for x in train_file[:num_train]]\n",
    "test_file = [x.decode('utf-8') for x in test_file[:num_test]]"
   ]
  },
  {
   "cell_type": "markdown",
   "metadata": {},
   "source": [
    "Next, we extract the labels from train and test sets as well as do some data cleaning to format URLs"
   ]
  },
  {
   "cell_type": "code",
   "execution_count": null,
   "metadata": {},
   "outputs": [],
   "source": [
    "# Extracting labels from sentences\n",
    "train_labels = [0 if x.split(' ')[0] == '__label__1' else 1 for x in train_file]\n",
    "train_sentences = [x.split(' ', 1)[1][:-1].lower() for x in train_file]\n",
    "\n",
    "test_labels = [0 if x.split(' ')[0] == '__label__1' else 1 for x in test_file]\n",
    "test_sentences = [x.split(' ', 1)[1][:-1].lower() for x in test_file]\n",
    "\n",
    "# Some simple cleaning of data\n",
    "for i in range(len(train_sentences)):\n",
    "    train_sentences[i] = re.sub('\\d','0',train_sentences[i])\n",
    "\n",
    "for i in range(len(test_sentences)):\n",
    "    test_sentences[i] = re.sub('\\d','0',test_sentences[i])\n",
    "\n",
    "# Modify URLs to <url>\n",
    "for i in range(len(train_sentences)):\n",
    "    if 'www.' in train_sentences[i] or 'http:' in train_sentences[i] or 'https:' in train_sentences[i] or '.com' in train_sentences[i]:\n",
    "        train_sentences[i] = re.sub(r\"([^ ]+(?<=\\.[a-z]{3}))\", \"<url>\", train_sentences[i])\n",
    "        \n",
    "for i in range(len(test_sentences)):\n",
    "    if 'www.' in test_sentences[i] or 'http:' in test_sentences[i] or 'https:' in test_sentences[i] or '.com' in test_sentences[i]:\n",
    "        test_sentences[i] = re.sub(r\"([^ ]+(?<=\\.[a-z]{3}))\", \"<url>\", test_sentences[i])"
   ]
  },
  {
   "cell_type": "markdown",
   "metadata": {},
   "source": [
    "Then we tokenize each word using the nltk library and perform some additional tranformations that change all words to lowercase and remove words that only appear once. Making all words lowercase ensures that the same word is tokenized to the same value; otherwise, a capitalized word would be considered different than the same word in lowercase."
   ]
  },
  {
   "cell_type": "code",
   "execution_count": null,
   "metadata": {},
   "outputs": [],
   "source": [
    "words = Counter()  # Dictionary that will map a word to the number of times it appeared in all the training sentences\n",
    "for i, sentence in enumerate(train_sentences):\n",
    "    # The sentences will be stored as a list of words/tokens\n",
    "    train_sentences[i] = []\n",
    "    for word in nltk.word_tokenize(sentence):  # Tokenizing the words\n",
    "        words.update([word.lower()])  # Converting all the words to lowercase\n",
    "        train_sentences[i].append(word)\n",
    "    if i%20000 == 0:\n",
    "        print(str((i*100)/num_train) + \"% done\")\n",
    "print(\"100% done\")"
   ]
  },
  {
   "cell_type": "code",
   "execution_count": null,
   "metadata": {},
   "outputs": [],
   "source": [
    "# Removing the words that only appear once\n",
    "words = {k:v for k,v in words.items() if v>1}\n",
    "# Sorting the words according to the number of appearances, with the most common word being first\n",
    "words = sorted(words, key=words.get, reverse=True)\n",
    "# Adding padding and unknown to our vocabulary so that they will be assigned an index\n",
    "words = ['_PAD','_UNK'] + words\n",
    "# Dictionaries to store the word to index mappings and vice versa\n",
    "word2idx = {o:i for i,o in enumerate(words)}\n",
    "idx2word = {i:o for i,o in enumerate(words)}"
   ]
  },
  {
   "cell_type": "code",
   "execution_count": null,
   "metadata": {},
   "outputs": [],
   "source": [
    "for i, sentence in enumerate(train_sentences):\n",
    "    # Looking up the mapping dictionary and assigning the index to the respective words\n",
    "    train_sentences[i] = [word2idx[word] if word in word2idx else 0 for word in sentence]\n",
    "\n",
    "for i, sentence in enumerate(test_sentences):\n",
    "    # For test sentences, we have to tokenize the sentences as well\n",
    "    test_sentences[i] = [word2idx[word.lower()] if word.lower() in word2idx else 0 for word in nltk.word_tokenize(sentence)]"
   ]
  },
  {
   "cell_type": "markdown",
   "metadata": {},
   "source": [
    "We pad the sentences so they are all the same length. This ensures that training in batches is possible"
   ]
  },
  {
   "cell_type": "code",
   "execution_count": null,
   "metadata": {},
   "outputs": [],
   "source": [
    "# Defining a function that either shortens sentences or pads sentences with 0 to a fixed length\n",
    "def pad_input(sentences, seq_len):\n",
    "    features = np.zeros((len(sentences), seq_len),dtype=int)\n",
    "    for ii, review in enumerate(sentences):\n",
    "        if len(review) != 0:\n",
    "            features[ii, -len(review):] = np.array(review)[:seq_len]\n",
    "    return features\n",
    "\n",
    "seq_len = 200  # The length that the sentences will be padded/shortened to\n",
    "\n",
    "train_sentences = pad_input(train_sentences, seq_len)\n",
    "test_sentences = pad_input(test_sentences, seq_len)\n",
    "\n",
    "# Converting our labels into numpy arrays\n",
    "train_labels = np.array(train_labels)\n",
    "test_labels = np.array(test_labels)"
   ]
  },
  {
   "cell_type": "markdown",
   "metadata": {},
   "source": [
    "Split test set into validation and test. Validation will act as the final dataset on which to test the model after repeated training, testing, and hyperparameter tuning. "
   ]
  },
  {
   "cell_type": "code",
   "execution_count": null,
   "metadata": {},
   "outputs": [],
   "source": [
    "split_frac = 0.5 # 50% validation, 50% test\n",
    "split_id = int(split_frac * len(test_sentences))\n",
    "val_sentences, test_sentences = test_sentences[:split_id], test_sentences[split_id:]\n",
    "val_labels, test_labels = test_labels[:split_id], test_labels[split_id:]"
   ]
  },
  {
   "cell_type": "markdown",
   "metadata": {},
   "source": [
    "We convert the pre-processed data into tensors so we can work with them in PyTorch."
   ]
  },
  {
   "cell_type": "code",
   "execution_count": null,
   "metadata": {},
   "outputs": [],
   "source": [
    "import torch\n",
    "from torch.utils.data import TensorDataset, DataLoader\n",
    "import torch.nn as nn\n",
    "\n",
    "train_data = TensorDataset(torch.from_numpy(train_sentences), torch.from_numpy(train_labels))\n",
    "val_data = TensorDataset(torch.from_numpy(val_sentences), torch.from_numpy(val_labels))\n",
    "test_data = TensorDataset(torch.from_numpy(test_sentences), torch.from_numpy(test_labels))\n",
    "\n",
    "batch_size = 400\n",
    "\n",
    "train_loader = DataLoader(train_data, shuffle=True, batch_size=batch_size)\n",
    "val_loader = DataLoader(val_data, shuffle=True, batch_size=batch_size)\n",
    "test_loader = DataLoader(test_data, shuffle=True, batch_size=batch_size)"
   ]
  },
  {
   "cell_type": "markdown",
   "metadata": {},
   "source": [
    "If GPUs are available, cuda allows us to run parallel processes and train the PyTorch model must faster."
   ]
  },
  {
   "cell_type": "code",
   "execution_count": null,
   "metadata": {},
   "outputs": [],
   "source": [
    "# torch.cuda.is_available() checks and returns a Boolean True if a GPU is available, else it'll return False\n",
    "is_cuda = torch.cuda.is_available()\n",
    "\n",
    "# If we have a GPU available, we'll set our device to GPU. We'll use this device variable later in our code.\n",
    "if is_cuda:\n",
    "    device = torch.device(\"cuda\")\n",
    "else:\n",
    "    device = torch.device(\"cpu\")"
   ]
  },
  {
   "cell_type": "markdown",
   "metadata": {},
   "source": [
    "We define the neural network architecture with LSTM layers and a sigmoid function after the last LSTM layer that results in fully-connected classification layer that categorizes whether the sentiment is positive or negative."
   ]
  },
  {
   "cell_type": "code",
   "execution_count": null,
   "metadata": {},
   "outputs": [],
   "source": [
    "class SentimentNet(nn.Module):\n",
    "    def __init__(self, vocab_size, output_size, embedding_dim, hidden_dim, n_layers, drop_prob=0.5):\n",
    "        super(SentimentNet, self).__init__()\n",
    "        self.output_size = output_size\n",
    "        self.n_layers = n_layers\n",
    "        self.hidden_dim = hidden_dim\n",
    "        \n",
    "        self.embedding = nn.Embedding(vocab_size, embedding_dim)\n",
    "        self.lstm = nn.LSTM(embedding_dim, hidden_dim, n_layers, dropout=drop_prob, batch_first=True)\n",
    "        self.dropout = nn.Dropout(drop_prob)\n",
    "        self.fc = nn.Linear(hidden_dim, output_size)\n",
    "        self.sigmoid = nn.Sigmoid()\n",
    "        \n",
    "    def forward(self, x, hidden):\n",
    "        batch_size = x.size(0)\n",
    "        x = x.long()\n",
    "        embeds = self.embedding(x)\n",
    "        lstm_out, hidden = self.lstm(embeds, hidden)\n",
    "        lstm_out = lstm_out.contiguous().view(-1, self.hidden_dim)\n",
    "        \n",
    "        out = self.dropout(lstm_out)\n",
    "        out = self.fc(out)\n",
    "        out = self.sigmoid(out)\n",
    "        \n",
    "        out = out.view(batch_size, -1)\n",
    "        out = out[:,-1]\n",
    "        return out, hidden\n",
    "    \n",
    "    def init_hidden(self, batch_size):\n",
    "        weight = next(self.parameters()).data\n",
    "        hidden = (weight.new(self.n_layers, batch_size, self.hidden_dim).zero_().to(device),\n",
    "                      weight.new(self.n_layers, batch_size, self.hidden_dim).zero_().to(device))\n",
    "        return hidden"
   ]
  },
  {
   "cell_type": "markdown",
   "metadata": {},
   "source": [
    "We instantiate the SentimentNet class with 2 layers, each with embeddings dimension of 400 and 512 hidden nodes. We will use binary cross entropy loss as the loss function (because we are training a binary classifier) and Adam as the optimizer."
   ]
  },
  {
   "cell_type": "code",
   "execution_count": null,
   "metadata": {},
   "outputs": [],
   "source": [
    "vocab_size = len(word2idx) + 1\n",
    "output_size = 1\n",
    "embedding_dim = 400\n",
    "hidden_dim = 512\n",
    "n_layers = 2\n",
    "\n",
    "model = SentimentNet(vocab_size, output_size, embedding_dim, hidden_dim, n_layers)\n",
    "model.to(device)\n",
    "\n",
    "lr=0.005\n",
    "criterion = nn.BCELoss()\n",
    "optimizer = torch.optim.Adam(model.parameters(), lr=lr)"
   ]
  },
  {
   "cell_type": "markdown",
   "metadata": {},
   "source": [
    "The model is then trained across 2 epochs"
   ]
  },
  {
   "cell_type": "code",
   "execution_count": null,
   "metadata": {},
   "outputs": [],
   "source": [
    "epochs = 2\n",
    "counter = 0\n",
    "print_every = 1000\n",
    "clip = 5\n",
    "valid_loss_min = np.Inf\n",
    "\n",
    "model.train()\n",
    "for i in range(epochs):\n",
    "    h = model.init_hidden(batch_size)\n",
    "    \n",
    "    for inputs, labels in train_loader:\n",
    "        counter += 1\n",
    "        h = tuple([e.data for e in h])\n",
    "        inputs, labels = inputs.to(device), labels.to(device)\n",
    "        model.zero_grad()\n",
    "        output, h = model(inputs, h)\n",
    "        loss = criterion(output.squeeze(), labels.float())\n",
    "        loss.backward()\n",
    "        nn.utils.clip_grad_norm_(model.parameters(), clip)\n",
    "        optimizer.step()\n",
    "        \n",
    "        if counter%print_every == 0:\n",
    "            val_h = model.init_hidden(batch_size)\n",
    "            val_losses = []\n",
    "            model.eval()\n",
    "            for inp, lab in val_loader:\n",
    "                val_h = tuple([each.data for each in val_h])\n",
    "                inp, lab = inp.to(device), lab.to(device)\n",
    "                out, val_h = model(inp, val_h)\n",
    "                val_loss = criterion(out.squeeze(), lab.float())\n",
    "                val_losses.append(val_loss.item())\n",
    "                \n",
    "            model.train()\n",
    "            print(\"Epoch: {}/{}...\".format(i+1, epochs),\n",
    "                  \"Step: {}...\".format(counter),\n",
    "                  \"Loss: {:.6f}...\".format(loss.item()),\n",
    "                  \"Val Loss: {:.6f}\".format(np.mean(val_losses)))\n",
    "            if np.mean(val_losses) <= valid_loss_min:\n",
    "                torch.save(model.state_dict(), './state_dict.pt')\n",
    "                print('Validation loss decreased ({:.6f} --> {:.6f}).  Saving model ...'.format(valid_loss_min,np.mean(val_losses)))\n",
    "                valid_loss_min = np.mean(val_losses)"
   ]
  },
  {
   "cell_type": "markdown",
   "metadata": {},
   "source": [
    "Once the model is trained, we save it to state_dict.pth and can load it to make predictions."
   ]
  },
  {
   "cell_type": "code",
   "execution_count": null,
   "metadata": {},
   "outputs": [],
   "source": [
    "# Loading the best model\n",
    "model.load_state_dict(torch.load('./state_dict.pt'))\n",
    "\n",
    "test_losses = []\n",
    "num_correct = 0\n",
    "h = model.init_hidden(batch_size)\n",
    "\n",
    "model.eval()\n",
    "for inputs, labels in test_loader:\n",
    "    h = tuple([each.data for each in h])\n",
    "    inputs, labels = inputs.to(device), labels.to(device)\n",
    "    output, h = model(inputs, h)\n",
    "    test_loss = criterion(output.squeeze(), labels.float())\n",
    "    test_losses.append(test_loss.item())\n",
    "    pred = torch.round(output.squeeze())  # Rounds the output to 0/1\n",
    "    correct_tensor = pred.eq(labels.float().view_as(pred))\n",
    "    correct = np.squeeze(correct_tensor.cpu().numpy())\n",
    "    num_correct += np.sum(correct)\n",
    "\n",
    "print(\"Test loss: {:.3f}\".format(np.mean(test_losses)))\n",
    "test_acc = num_correct/len(test_loader.dataset)\n",
    "print(\"Test accuracy: {:.3f}%\".format(test_acc*100))"
   ]
  }
 ],
 "metadata": {
  "kernelspec": {
   "display_name": ".venv",
   "language": "python",
   "name": "python3"
  },
  "language_info": {
   "codemirror_mode": {
    "name": "ipython",
    "version": 3
   },
   "file_extension": ".py",
   "mimetype": "text/x-python",
   "name": "python",
   "nbconvert_exporter": "python",
   "pygments_lexer": "ipython3",
   "version": "3.10.6"
  }
 },
 "nbformat": 4,
 "nbformat_minor": 2
}
